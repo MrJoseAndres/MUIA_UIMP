{
 "cells": [
  {
   "cell_type": "code",
   "execution_count": 1,
   "metadata": {},
   "outputs": [],
   "source": [
    "PATH = \"./30/01\"\n",
    "#path = \"/home/bigdata/Escritorio/spark/data/30/01\"\n",
    "#rdd = sc.parallelize(file_paths).flatMap(lambda file_path: load_tweets(file_path))"
   ]
  },
  {
   "cell_type": "code",
   "execution_count": 65,
   "metadata": {},
   "outputs": [],
   "source": [
    "import os\n",
    "import bz2\n",
    "import json\n",
    "\n",
    "def get_file_paths(root_path):\n",
    "    \"\"\"Recupera todas las rutas de archivos bz2.\"\"\"\n",
    "    file_paths = []\n",
    "    for dirpath, _, files in os.walk(root_path):\n",
    "        for file in files:\n",
    "            if file.endswith(\".bz2\"):\n",
    "                file_paths.append(os.path.join(dirpath, file))\n",
    "    return file_paths\n",
    "\n",
    "def load_tweets(file_path):\n",
    "    tweets = []\n",
    "    with bz2.BZ2File(file_path, \"rb\") as f:\n",
    "        file_data = f.read().decode(\"utf-8\").strip().split(\"\\n\")\n",
    "        for tweet in file_data:\n",
    "            try:\n",
    "                tweet = json.loads(tweet)\n",
    "                if tweet[\"user\"][\"lang\"] == \"es\":\n",
    "                    user = tweet[\"user\"][\"screen_name\"]\n",
    "                    date = tweet[\"created_at\"]\n",
    "                    content = tweet[\"text\"]\n",
    "                    tweets.append((user, date, content))\n",
    "            except (KeyError, ValueError):\n",
    "                continue\n",
    "    return tweets"
   ]
  },
  {
   "cell_type": "code",
   "execution_count": 66,
   "metadata": {},
   "outputs": [],
   "source": [
    "files = get_file_paths(PATH)"
   ]
  },
  {
   "cell_type": "code",
   "execution_count": 67,
   "metadata": {},
   "outputs": [],
   "source": [
    "tweets = []\n",
    "for file in files:\n",
    "    tweets.extend(load_tweets(file))"
   ]
  },
  {
   "cell_type": "code",
   "execution_count": 61,
   "metadata": {},
   "outputs": [],
   "source": [
    "tweets_per_user = {}\n",
    "for tweet in tweets:\n",
    "    user = tweet[0]\n",
    "    if user in tweets_per_user.keys():\n",
    "        tweets_per_user[user] += 1\n",
    "    else:\n",
    "        tweets_per_user[user] = 1"
   ]
  },
  {
   "cell_type": "code",
   "execution_count": 64,
   "metadata": {},
   "outputs": [
    {
     "data": {
      "text/plain": [
       "'AnnhaGarza'"
      ]
     },
     "execution_count": 64,
     "metadata": {},
     "output_type": "execute_result"
    }
   ],
   "source": [
    "max(tweets_per_user, key= lambda x: tweets_per_user[x])"
   ]
  },
  {
   "cell_type": "code",
   "execution_count": 68,
   "metadata": {},
   "outputs": [],
   "source": [
    "hashtag_count = {}\n",
    "for tweet in tweets:\n",
    "    text = tweet[2]\n",
    "    words = text.split()\n",
    "    for word in words:\n",
    "        if word.startswith(\"#\"):\n",
    "            if word in hashtag_count.keys():\n",
    "                hashtag_count[word] += 1\n",
    "            else:\n",
    "                hashtag_count[word] = 1"
   ]
  },
  {
   "cell_type": "code",
   "execution_count": 70,
   "metadata": {},
   "outputs": [],
   "source": [
    "hashtag_count_useless = {k: v for k, v in hashtag_count.items() if v < 2}"
   ]
  },
  {
   "cell_type": "code",
   "execution_count": 72,
   "metadata": {},
   "outputs": [],
   "source": [
    "useless_hastags_per_user = {}\n",
    "for tweet in tweets:\n",
    "    user = tweet[0]\n",
    "    text = tweet[2]\n",
    "    words = text.split()\n",
    "    for word in words:\n",
    "        if word in hashtag_count_useless.keys():\n",
    "            if user in useless_hastags_per_user.keys():\n",
    "                useless_hastags_per_user[user] += 1\n",
    "            else:\n",
    "                useless_hastags_per_user[user] = 1"
   ]
  },
  {
   "cell_type": "code",
   "execution_count": 75,
   "metadata": {},
   "outputs": [
    {
     "name": "stdout",
     "output_type": "stream",
     "text": [
      "mplzoe\n",
      "9\n"
     ]
    }
   ],
   "source": [
    "print(max(useless_hastags_per_user, key= lambda x: useless_hastags_per_user[x]))\n",
    "print(useless_hastags_per_user[\"mplzoe\"])"
   ]
  },
  {
   "cell_type": "code",
   "execution_count": 82,
   "metadata": {},
   "outputs": [
    {
     "name": "stdout",
     "output_type": "stream",
     "text": [
      "FabianaMargarit\n"
     ]
    }
   ],
   "source": [
    "user_used_hashtags = {}\n",
    "#user_impact \n",
    "for tweet in tweets:\n",
    "    user = tweet[0]\n",
    "    text = tweet[2]\n",
    "    words = text.split()\n",
    "    for word in words:\n",
    "        if word.startswith(\"#\"):\n",
    "            if user in user_used_hashtags.keys():\n",
    "                user_used_hashtags[user].append(word)\n",
    "            else:\n",
    "                user_used_hashtags[user] = 1"
   ]
  }
 ],
 "metadata": {
  "kernelspec": {
   "display_name": "dtc",
   "language": "python",
   "name": "python3"
  },
  "language_info": {
   "codemirror_mode": {
    "name": "ipython",
    "version": 3
   },
   "file_extension": ".py",
   "mimetype": "text/x-python",
   "name": "python",
   "nbconvert_exporter": "python",
   "pygments_lexer": "ipython3",
   "version": "3.7.12"
  }
 },
 "nbformat": 4,
 "nbformat_minor": 2
}
