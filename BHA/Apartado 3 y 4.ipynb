{
 "cells": [
  {
   "cell_type": "code",
   "execution_count": 4,
   "metadata": {},
   "outputs": [],
   "source": [
    "from RTA import RTA\n",
    "model = RTA(\"map.txt\")\n",
    "\n",
    "from LRTA import LRTA\n",
    "model2 = LRTA(\"map.txt\")"
   ]
  },
  {
   "cell_type": "code",
   "execution_count": 5,
   "metadata": {},
   "outputs": [],
   "source": [
    "def iteration(model, start):\n",
    "    model.reset()\n",
    "    model.map.pos = start\n",
    "\n",
    "    while model.forward():\n",
    "        continue\n",
    "\n",
    "    print(f\"Se ha llegado al objetivo en {model.steps} pasos. Los pasos realizados son: {model.actions}.\")\n",
    "    print(f\"La ruta es: {model.path}\")"
   ]
  },
  {
   "cell_type": "markdown",
   "metadata": {},
   "source": [
    "# Apartado 3"
   ]
  },
  {
   "cell_type": "code",
   "execution_count": 6,
   "metadata": {},
   "outputs": [
    {
     "name": "stdout",
     "output_type": "stream",
     "text": [
      "Se ha llegado al objetivo en 10 pasos. Los pasos realizados son: ['u', 'd', 'u', 'u', 'r', 'r', 'd', 'd', 'd', 'd'].\n",
      "La ruta es: ['H3', 'H2', 'H3', 'H2', 'H1', 'I1', 'J1', 'J2', 'J3', 'J4', 'J5']\n",
      "Se ha llegado al objetivo en 10 pasos. Los pasos realizados son: ['r', 'r', 'd', 'd', 'r', 'r', 'r', 'r', 'r', 'r'].\n",
      "La ruta es: ['H3', 'C3', 'D3', 'D4', 'D5', 'E5', 'F5', 'G5', 'H5', 'I5', 'J5']\n",
      "Se ha llegado al objetivo en 20 pasos. Los pasos realizados son: ['u', 'u', 'u', 'u', 'l', 'l', 'l', 'l', 'r', 'r', 'r', 'r', 'd', 'd', 'd', 'd', 'r', 'r', 'r', 'r'].\n",
      "La ruta es: ['H3', 'F4', 'F3', 'F2', 'F1', 'E1', 'D1', 'C1', 'B1', 'C1', 'D1', 'E1', 'F1', 'F2', 'F3', 'F4', 'F5', 'G5', 'H5', 'I5', 'J5']\n",
      "Se ha llegado al objetivo en 1 pasos. Los pasos realizados son: ['r'].\n",
      "La ruta es: ['H3', 'J5']\n",
      "Se ha llegado al objetivo en 18 pasos. Los pasos realizados son: ['u', 'u', 'r', 'r', 'd', 'd', 'd', 'd', 'u', 'u', 'u', 'u', 'l', 'l', 'd', 'd', 'd', 'd'].\n",
      "La ruta es: ['H3', 'J2', 'J1', 'K1', 'L1', 'L2', 'L3', 'L4', 'L5', 'L4', 'L3', 'L2', 'L1', 'K1', 'J1', 'J2', 'J3', 'J4', 'J5']\n",
      "Se ha llegado al objetivo en 10 pasos. Los pasos realizados son: ['d', 'd', 'u', 'u', 'r', 'r', 'd', 'd', 'd', 'd'].\n",
      "La ruta es: ['H3', 'H2', 'H3', 'H2', 'H1', 'I1', 'J1', 'J2', 'J3', 'J4', 'J5']\n",
      "Se ha llegado al objetivo en 13 pasos. Los pasos realizados son: ['d', 'u', 'u', 'r', 'r', 'd', 'd', 'r', 'r', 'r', 'r', 'r', 'r'].\n",
      "La ruta es: ['H3', 'B5', 'B4', 'B3', 'C3', 'D3', 'D4', 'D5', 'E5', 'F5', 'G5', 'H5', 'I5', 'J5']\n",
      "Se ha llegado al objetivo en 1 pasos. Los pasos realizados son: ['d'].\n",
      "La ruta es: ['H3', 'J5']\n",
      "Se ha llegado al objetivo en 30 pasos. Los pasos realizados son: ['l', 'l', 'r', 'r', 'r', 'r', 'd', 'd', 'd', 'd', 'l', 'l', 'u', 'u', 'l', 'l', 'd', 'd', 'u', 'u', 'r', 'r', 'd', 'd', 'r', 'r', 'r', 'r', 'r', 'r'].\n",
      "La ruta es: ['H3', 'C1', 'B1', 'C1', 'D1', 'E1', 'F1', 'F2', 'F3', 'F4', 'F5', 'E5', 'D5', 'D4', 'D3', 'C3', 'B3', 'B4', 'B5', 'B4', 'B3', 'C3', 'D3', 'D4', 'D5', 'E5', 'F5', 'G5', 'H5', 'I5', 'J5']\n",
      "Se ha llegado al objetivo en 21 pasos. Los pasos realizados son: ['d', 'd', 'd', 'u', 'u', 'u', 'u', 'l', 'l', 'l', 'l', 'd', 'd', 'u', 'u', 'r', 'r', 'd', 'd', 'd', 'd'].\n",
      "La ruta es: ['H3', 'L3', 'L4', 'L5', 'L4', 'L3', 'L2', 'L1', 'K1', 'J1', 'I1', 'H1', 'H2', 'H3', 'H2', 'H1', 'I1', 'J1', 'J2', 'J3', 'J4', 'J5']\n",
      "Se ha llegado al objetivo en 21 pasos. Los pasos realizados son: ['l', 'u', 'u', 'u', 'u', 'l', 'l', 'l', 'l', 'r', 'r', 'r', 'r', 'd', 'd', 'd', 'd', 'r', 'r', 'r', 'r'].\n",
      "La ruta es: ['H3', 'F5', 'F4', 'F3', 'F2', 'F1', 'E1', 'D1', 'C1', 'B1', 'C1', 'D1', 'E1', 'F1', 'F2', 'F3', 'F4', 'F5', 'G5', 'H5', 'I5', 'J5']\n",
      "   A  B  C  D  E  F  G  H  I  J  K  L  M \n",
      "0 ███████████████████████████████████████\n",
      "1 ███ 42 43 44 45 46███ 26 27 28 31 30███\n",
      "2 ███████████████ 47███ 25███ 29███ 29███\n",
      "3 ███ 32 33 34███ 48███ 24███ 30███ 28███\n",
      "4 ███ 31███ 35███ 49█████████ 31███ 27███\n",
      "5 ███ 30███ 36 37 38 39 40 41 A ███ 26███\n",
      "6 ███████████████████████████████████████\n",
      "\n"
     ]
    }
   ],
   "source": [
    "model.hard_reset()\n",
    "\n",
    "ltn = {'A' : 0 , 'B' : 1, 'C' : 2, 'D' : 3, 'E' : 4, 'F' : 5, 'G' : 6, 'H' : 7, 'I' : 8, 'J' : 9, 'K' : 10, 'L' : 11, \"M\": 12}\n",
    "\n",
    "for current_start in ['3H','3B', '5F', '5I', '3J', '1H', '4B', '4J', '1D', '2L', '5G']:\n",
    "    i, j = int(current_start[0]), ltn[current_start[1]]\n",
    "\n",
    "    iteration(model, (i, j))\n",
    "    \n",
    "print(model)\n",
    "    \n"
   ]
  },
  {
   "cell_type": "markdown",
   "metadata": {},
   "source": [
    "# Apartado 4"
   ]
  },
  {
   "cell_type": "code",
   "execution_count": 7,
   "metadata": {},
   "outputs": [
    {
     "name": "stdout",
     "output_type": "stream",
     "text": [
      "Se ha llegado al objetivo en 10 pasos. Los pasos realizados son: ['u', 'd', 'u', 'u', 'r', 'r', 'd', 'd', 'd', 'd'].\n",
      "La ruta es: ['H3', 'H2', 'H3', 'H2', 'H1', 'I1', 'J1', 'J2', 'J3', 'J4', 'J5']\n",
      "Se ha llegado al objetivo en 10 pasos. Los pasos realizados son: ['r', 'r', 'd', 'd', 'r', 'r', 'r', 'r', 'r', 'r'].\n",
      "La ruta es: ['H3', 'C3', 'D3', 'D4', 'D5', 'E5', 'F5', 'G5', 'H5', 'I5', 'J5']\n",
      "Se ha llegado al objetivo en 4 pasos. Los pasos realizados son: ['r', 'r', 'r', 'r'].\n",
      "La ruta es: ['H3', 'G5', 'H5', 'I5', 'J5']\n",
      "Se ha llegado al objetivo en 1 pasos. Los pasos realizados son: ['r'].\n",
      "La ruta es: ['H3', 'J5']\n",
      "Se ha llegado al objetivo en 2 pasos. Los pasos realizados son: ['d', 'd'].\n",
      "La ruta es: ['H3', 'J4', 'J5']\n",
      "Se ha llegado al objetivo en 6 pasos. Los pasos realizados son: ['r', 'r', 'd', 'd', 'd', 'd'].\n",
      "La ruta es: ['H3', 'I1', 'J1', 'J2', 'J3', 'J4', 'J5']\n",
      "Se ha llegado al objetivo en 15 pasos. Los pasos realizados son: ['d', 'u', 'd', 'u', 'u', 'r', 'r', 'd', 'd', 'r', 'r', 'r', 'r', 'r', 'r'].\n",
      "La ruta es: ['H3', 'B5', 'B4', 'B5', 'B4', 'B3', 'C3', 'D3', 'D4', 'D5', 'E5', 'F5', 'G5', 'H5', 'I5', 'J5']\n",
      "Se ha llegado al objetivo en 1 pasos. Los pasos realizados son: ['d'].\n",
      "La ruta es: ['H3', 'J5']\n",
      "Se ha llegado al objetivo en 10 pasos. Los pasos realizados son: ['r', 'r', 'd', 'd', 'd', 'd', 'r', 'r', 'r', 'r'].\n",
      "La ruta es: ['H3', 'E1', 'F1', 'F2', 'F3', 'F4', 'F5', 'G5', 'H5', 'I5', 'J5']\n",
      "Se ha llegado al objetivo en 25 pasos. Los pasos realizados son: ['d', 'd', 'd', 'u', 'd', 'u', 'u', 'd', 'd', 'u', 'u', 'u', 'd', 'd', 'd', 'u', 'u', 'u', 'u', 'l', 'l', 'd', 'd', 'd', 'd'].\n",
      "La ruta es: ['H3', 'L3', 'L4', 'L5', 'L4', 'L5', 'L4', 'L3', 'L4', 'L5', 'L4', 'L3', 'L2', 'L3', 'L4', 'L5', 'L4', 'L3', 'L2', 'L1', 'K1', 'J1', 'J2', 'J3', 'J4', 'J5']\n",
      "Se ha llegado al objetivo en 3 pasos. Los pasos realizados son: ['r', 'r', 'r'].\n",
      "La ruta es: ['H3', 'H5', 'I5', 'J5']\n",
      "   A  B  C  D  E  F  G  H  I  J  K  L  M \n",
      "0 ███████████████████████████████████████\n",
      "1 ███ 12 11 10 9  8 ███ 6  5  4  5  6 ███\n",
      "2 ███████████████ 7 ███ 7 ███ 3 ███ 7 ███\n",
      "3 ███ 10 9  8 ███ 6 ███ 8 ███ 2 ███ 8 ███\n",
      "4 ███ 11███ 7 ███ 5 █████████ 1 ███ 9 ███\n",
      "5 ███ 12███ 6  5  4  3  2  1  A ███ 10███\n",
      "6 ███████████████████████████████████████\n",
      "\n"
     ]
    }
   ],
   "source": [
    "model2.hard_reset()\n",
    "\n",
    "ltn = {'A' : 0 , 'B' : 1, 'C' : 2, 'D' : 3, 'E' : 4, 'F' : 5, 'G' : 6, 'H' : 7, 'I' : 8, 'J' : 9, 'K' : 10, 'L' : 11, \"M\": 12}\n",
    "\n",
    "for current_start in ['3H','3B', '5F', '5I', '3J', '1H', '4B', '4J', '1D', '2L', '5G']:\n",
    "    i, j = int(current_start[0]), ltn[current_start[1]]\n",
    "\n",
    "    iteration(model2, (i, j))\n",
    "    \n",
    "print(model2)"
   ]
  }
 ],
 "metadata": {
  "kernelspec": {
   "display_name": "dtc",
   "language": "python",
   "name": "python3"
  },
  "language_info": {
   "codemirror_mode": {
    "name": "ipython",
    "version": 3
   },
   "file_extension": ".py",
   "mimetype": "text/x-python",
   "name": "python",
   "nbconvert_exporter": "python",
   "pygments_lexer": "ipython3",
   "version": "3.7.12"
  }
 },
 "nbformat": 4,
 "nbformat_minor": 2
}
