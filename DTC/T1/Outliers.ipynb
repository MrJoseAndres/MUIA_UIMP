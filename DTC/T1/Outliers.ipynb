{
 "cells": [
  {
   "cell_type": "code",
   "execution_count": 3,
   "metadata": {},
   "outputs": [],
   "source": [
    "import pandas as pd\n",
    "\n",
    "#Reads the data\n",
    "rawdata = pd.read_csv('./Demanda_2015.txt', sep=';', encoding='utf-8')"
   ]
  },
  {
   "cell_type": "code",
   "execution_count": null,
   "metadata": {},
   "outputs": [
    {
     "data": {
      "text/html": [
       "<div>\n",
       "<style scoped>\n",
       "    .dataframe tbody tr th:only-of-type {\n",
       "        vertical-align: middle;\n",
       "    }\n",
       "\n",
       "    .dataframe tbody tr th {\n",
       "        vertical-align: top;\n",
       "    }\n",
       "\n",
       "    .dataframe thead th {\n",
       "        text-align: right;\n",
       "    }\n",
       "</style>\n",
       "<table border=\"1\" class=\"dataframe\">\n",
       "  <thead>\n",
       "    <tr style=\"text-align: right;\">\n",
       "      <th></th>\n",
       "      <th>date</th>\n",
       "      <th>time</th>\n",
       "      <th>consumption</th>\n",
       "    </tr>\n",
       "  </thead>\n",
       "  <tbody>\n",
       "    <tr>\n",
       "      <th>0</th>\n",
       "      <td>1/1/15</td>\n",
       "      <td>0:00</td>\n",
       "      <td>25459</td>\n",
       "    </tr>\n",
       "    <tr>\n",
       "      <th>1</th>\n",
       "      <td>1/1/15</td>\n",
       "      <td>0:10</td>\n",
       "      <td>25591</td>\n",
       "    </tr>\n",
       "    <tr>\n",
       "      <th>2</th>\n",
       "      <td>1/1/15</td>\n",
       "      <td>0:20</td>\n",
       "      <td>25531</td>\n",
       "    </tr>\n",
       "    <tr>\n",
       "      <th>3</th>\n",
       "      <td>1/1/15</td>\n",
       "      <td>0:30</td>\n",
       "      <td>25453</td>\n",
       "    </tr>\n",
       "    <tr>\n",
       "      <th>4</th>\n",
       "      <td>1/1/15</td>\n",
       "      <td>0:40</td>\n",
       "      <td>25329</td>\n",
       "    </tr>\n",
       "  </tbody>\n",
       "</table>\n",
       "</div>"
      ],
      "text/plain": [
       "     date  time  consumption\n",
       "0  1/1/15  0:00        25459\n",
       "1  1/1/15  0:10        25591\n",
       "2  1/1/15  0:20        25531\n",
       "3  1/1/15  0:30        25453\n",
       "4  1/1/15  0:40        25329"
      ]
     },
     "execution_count": 4,
     "metadata": {},
     "output_type": "execute_result"
    }
   ],
   "source": [
    "rawdata.head()"
   ]
  },
  {
   "cell_type": "code",
   "execution_count": null,
   "metadata": {},
   "outputs": [
    {
     "data": {
      "text/plain": [
       "7272.0"
      ]
     },
     "execution_count": 10,
     "metadata": {},
     "output_type": "execute_result"
    }
   ],
   "source": [
    "consumption_data = rawdata['consumption']\n",
    "\n",
    "Q1, Q3 = consumption_data.quantile([0.25, 0.75]) # Calculates the first and third quartiles\n",
    "IQR = Q3 - Q1 # Calculates the Interquartile Range\n",
    "\n",
    "lower_limit = Q1 - 1.5 * IQR # Calculates the lower limit\n",
    "upper_limit = Q3 + 1.5 * IQR # Calculates the upper limit\n",
    "\n",
    "outliers = consumption_data[(consumption_data < lower_limit) | (consumption_data > upper_limit)] # Detects the outliers\n",
    "\n",
    "\n",
    "# Supón que tienes un DataFrame llamado df y una columna llamada 'columna'\n",
    "#Q1 = rawdata['consumption'].quantile(0.25)  # Cuartil 1\n",
    "#Q3 = rawdata['consumption'].quantile(0.75)  # Cuartil 3\n",
    "#IQR = Q3 - Q1  # Rango intercuartílico\n",
    "\n",
    "# Limites para detectar outliers\n",
    "#limite_inferior = Q1 - 1.5 * IQR\n",
    "#limite_superior = Q3 + 1.5 * IQR\n",
    "\n",
    "# Detectando outliers\n",
    "#outliers = rawdata[(rawdata['consumption'] < limite_inferior) | (rawdata['consumption'] > limite_superior)]\n",
    "#print(outliers)\n"
   ]
  }
 ],
 "metadata": {
  "kernelspec": {
   "display_name": "Python 3",
   "language": "python",
   "name": "python3"
  },
  "language_info": {
   "codemirror_mode": {
    "name": "ipython",
    "version": 3
   },
   "file_extension": ".py",
   "mimetype": "text/x-python",
   "name": "python",
   "nbconvert_exporter": "python",
   "pygments_lexer": "ipython3",
   "version": "3.12.7"
  }
 },
 "nbformat": 4,
 "nbformat_minor": 2
}
