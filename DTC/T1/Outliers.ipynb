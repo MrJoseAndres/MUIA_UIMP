{
 "cells": [
  {
   "cell_type": "code",
   "execution_count": 2,
   "metadata": {},
   "outputs": [],
   "source": [
    "import pandas as pd\n",
    "\n",
    "#Reads the data\n",
    "rawdata = pd.read_csv('./Demanda_2015.txt', sep=';', encoding='utf-8')"
   ]
  },
  {
   "cell_type": "code",
   "execution_count": 3,
   "metadata": {},
   "outputs": [
    {
     "data": {
      "text/html": [
       "<div>\n",
       "<style scoped>\n",
       "    .dataframe tbody tr th:only-of-type {\n",
       "        vertical-align: middle;\n",
       "    }\n",
       "\n",
       "    .dataframe tbody tr th {\n",
       "        vertical-align: top;\n",
       "    }\n",
       "\n",
       "    .dataframe thead th {\n",
       "        text-align: right;\n",
       "    }\n",
       "</style>\n",
       "<table border=\"1\" class=\"dataframe\">\n",
       "  <thead>\n",
       "    <tr style=\"text-align: right;\">\n",
       "      <th></th>\n",
       "      <th>date</th>\n",
       "      <th>time</th>\n",
       "      <th>consumption</th>\n",
       "    </tr>\n",
       "  </thead>\n",
       "  <tbody>\n",
       "    <tr>\n",
       "      <th>0</th>\n",
       "      <td>1/1/15</td>\n",
       "      <td>0:00</td>\n",
       "      <td>25459</td>\n",
       "    </tr>\n",
       "    <tr>\n",
       "      <th>1</th>\n",
       "      <td>1/1/15</td>\n",
       "      <td>0:10</td>\n",
       "      <td>25591</td>\n",
       "    </tr>\n",
       "    <tr>\n",
       "      <th>2</th>\n",
       "      <td>1/1/15</td>\n",
       "      <td>0:20</td>\n",
       "      <td>25531</td>\n",
       "    </tr>\n",
       "    <tr>\n",
       "      <th>3</th>\n",
       "      <td>1/1/15</td>\n",
       "      <td>0:30</td>\n",
       "      <td>25453</td>\n",
       "    </tr>\n",
       "    <tr>\n",
       "      <th>4</th>\n",
       "      <td>1/1/15</td>\n",
       "      <td>0:40</td>\n",
       "      <td>25329</td>\n",
       "    </tr>\n",
       "  </tbody>\n",
       "</table>\n",
       "</div>"
      ],
      "text/plain": [
       "     date  time  consumption\n",
       "0  1/1/15  0:00        25459\n",
       "1  1/1/15  0:10        25591\n",
       "2  1/1/15  0:20        25531\n",
       "3  1/1/15  0:30        25453\n",
       "4  1/1/15  0:40        25329"
      ]
     },
     "execution_count": 3,
     "metadata": {},
     "output_type": "execute_result"
    }
   ],
   "source": [
    "rawdata.head()"
   ]
  },
  {
   "cell_type": "code",
   "execution_count": null,
   "metadata": {},
   "outputs": [],
   "source": [
    "def calculate_outliers(data):\n",
    "\n",
    "    Q1, Q3 = data['consumption'].quantile([0.25, 0.75]) # Calculates the first and third quartiles\n",
    "    IQR = Q3 - Q1 # Calculates the Interquartile Range\n",
    "\n",
    "    lower_limit = Q1 - 1.5 * IQR # Calculates the lower limit\n",
    "    upper_limit = Q3 + 1.5 * IQR # Calculates the upper limit\n",
    "\n",
    "    return data[(data['consumption'] < lower_limit) | (data['consumption'] > upper_limit)]\n"
   ]
  },
  {
   "cell_type": "code",
   "execution_count": 11,
   "metadata": {},
   "outputs": [
    {
     "name": "stdout",
     "output_type": "stream",
     "text": [
      "Empty DataFrame\n",
      "Columns: [date, time, consumption]\n",
      "Index: []\n"
     ]
    }
   ],
   "source": [
    "outliers = calculate_outliers(rawdata)\n",
    "print(outliers)"
   ]
  },
  {
   "cell_type": "code",
   "execution_count": 14,
   "metadata": {},
   "outputs": [
    {
     "name": "stdout",
     "output_type": "stream",
     "text": [
      "         date   consumption\n",
      "207  25/12/15  21781.826389\n",
      "269    3/4/15  21604.944444\n",
      "311    5/4/15  21905.354167\n"
     ]
    }
   ],
   "source": [
    "#Joins the values of the data with the same date () and removes the hour column\n",
    "day_data = rawdata.groupby('date')['consumption'].mean().reset_index()\n",
    "outliers = calculate_outliers(day_data)\n",
    "print(outliers)"
   ]
  }
 ],
 "metadata": {
  "kernelspec": {
   "display_name": "Python 3",
   "language": "python",
   "name": "python3"
  },
  "language_info": {
   "codemirror_mode": {
    "name": "ipython",
    "version": 3
   },
   "file_extension": ".py",
   "mimetype": "text/x-python",
   "name": "python",
   "nbconvert_exporter": "python",
   "pygments_lexer": "ipython3",
   "version": "3.12.7"
  }
 },
 "nbformat": 4,
 "nbformat_minor": 2
}
